{
 "cells": [
  {
   "cell_type": "markdown",
   "id": "6a06091e",
   "metadata": {},
   "source": [
    "# Taller 4 - Stephanie Gonzalez López\n",
    "Para este estudio vamos a usar Numpy y SciPy para calcular el promedio, la mediana, la moda, la varianza y la desviación estándar de un archivo de datos games.csv y mostraremos los resultados en un histograma.\n",
    "\n",
    "Primero importaremos las librerias que usaremos para este estudio:"
   ]
  },
  {
   "cell_type": "code",
   "execution_count": 1,
   "id": "0a6efbb6",
   "metadata": {},
   "outputs": [],
   "source": [
    "import csv\n",
    "import numpy as np\n",
    "import pandas as pd\n",
    "from matplotlib import pyplot as plt\n",
    "from matplotlib.pyplot import figure\n",
    "from scipy import stats\n",
    "from statistics import mode"
   ]
  },
  {
   "cell_type": "code",
   "execution_count": 2,
   "id": "480e6f03",
   "metadata": {
    "scrolled": false
   },
   "outputs": [
    {
     "data": {
      "text/html": [
       "<div>\n",
       "<style scoped>\n",
       "    .dataframe tbody tr th:only-of-type {\n",
       "        vertical-align: middle;\n",
       "    }\n",
       "\n",
       "    .dataframe tbody tr th {\n",
       "        vertical-align: top;\n",
       "    }\n",
       "\n",
       "    .dataframe thead th {\n",
       "        text-align: right;\n",
       "    }\n",
       "</style>\n",
       "<table border=\"1\" class=\"dataframe\">\n",
       "  <thead>\n",
       "    <tr style=\"text-align: right;\">\n",
       "      <th></th>\n",
       "      <th>gameId</th>\n",
       "      <th>creationTime</th>\n",
       "      <th>gameDuration</th>\n",
       "      <th>seasonId</th>\n",
       "      <th>winner</th>\n",
       "      <th>firstBlood</th>\n",
       "      <th>firstTower</th>\n",
       "      <th>firstInhibitor</th>\n",
       "      <th>firstBaron</th>\n",
       "      <th>firstDragon</th>\n",
       "      <th>...</th>\n",
       "      <th>t2_towerKills</th>\n",
       "      <th>t2_inhibitorKills</th>\n",
       "      <th>t2_baronKills</th>\n",
       "      <th>t2_dragonKills</th>\n",
       "      <th>t2_riftHeraldKills</th>\n",
       "      <th>t2_ban1</th>\n",
       "      <th>t2_ban2</th>\n",
       "      <th>t2_ban3</th>\n",
       "      <th>t2_ban4</th>\n",
       "      <th>t2_ban5</th>\n",
       "    </tr>\n",
       "  </thead>\n",
       "  <tbody>\n",
       "    <tr>\n",
       "      <th>0</th>\n",
       "      <td>3326086514</td>\n",
       "      <td>1504279457970</td>\n",
       "      <td>1949</td>\n",
       "      <td>9</td>\n",
       "      <td>1</td>\n",
       "      <td>2</td>\n",
       "      <td>1</td>\n",
       "      <td>1</td>\n",
       "      <td>1</td>\n",
       "      <td>1</td>\n",
       "      <td>...</td>\n",
       "      <td>5</td>\n",
       "      <td>0</td>\n",
       "      <td>0</td>\n",
       "      <td>1</td>\n",
       "      <td>1</td>\n",
       "      <td>114</td>\n",
       "      <td>67</td>\n",
       "      <td>43</td>\n",
       "      <td>16</td>\n",
       "      <td>51</td>\n",
       "    </tr>\n",
       "    <tr>\n",
       "      <th>1</th>\n",
       "      <td>3229566029</td>\n",
       "      <td>1497848803862</td>\n",
       "      <td>1851</td>\n",
       "      <td>9</td>\n",
       "      <td>1</td>\n",
       "      <td>1</td>\n",
       "      <td>1</td>\n",
       "      <td>1</td>\n",
       "      <td>0</td>\n",
       "      <td>1</td>\n",
       "      <td>...</td>\n",
       "      <td>2</td>\n",
       "      <td>0</td>\n",
       "      <td>0</td>\n",
       "      <td>0</td>\n",
       "      <td>0</td>\n",
       "      <td>11</td>\n",
       "      <td>67</td>\n",
       "      <td>238</td>\n",
       "      <td>51</td>\n",
       "      <td>420</td>\n",
       "    </tr>\n",
       "    <tr>\n",
       "      <th>2</th>\n",
       "      <td>3327363504</td>\n",
       "      <td>1504360103310</td>\n",
       "      <td>1493</td>\n",
       "      <td>9</td>\n",
       "      <td>1</td>\n",
       "      <td>2</td>\n",
       "      <td>1</td>\n",
       "      <td>1</td>\n",
       "      <td>1</td>\n",
       "      <td>2</td>\n",
       "      <td>...</td>\n",
       "      <td>2</td>\n",
       "      <td>0</td>\n",
       "      <td>0</td>\n",
       "      <td>1</td>\n",
       "      <td>0</td>\n",
       "      <td>157</td>\n",
       "      <td>238</td>\n",
       "      <td>121</td>\n",
       "      <td>57</td>\n",
       "      <td>28</td>\n",
       "    </tr>\n",
       "    <tr>\n",
       "      <th>3</th>\n",
       "      <td>3326856598</td>\n",
       "      <td>1504348503996</td>\n",
       "      <td>1758</td>\n",
       "      <td>9</td>\n",
       "      <td>1</td>\n",
       "      <td>1</td>\n",
       "      <td>1</td>\n",
       "      <td>1</td>\n",
       "      <td>1</td>\n",
       "      <td>1</td>\n",
       "      <td>...</td>\n",
       "      <td>0</td>\n",
       "      <td>0</td>\n",
       "      <td>0</td>\n",
       "      <td>0</td>\n",
       "      <td>0</td>\n",
       "      <td>164</td>\n",
       "      <td>18</td>\n",
       "      <td>141</td>\n",
       "      <td>40</td>\n",
       "      <td>51</td>\n",
       "    </tr>\n",
       "    <tr>\n",
       "      <th>4</th>\n",
       "      <td>3330080762</td>\n",
       "      <td>1504554410899</td>\n",
       "      <td>2094</td>\n",
       "      <td>9</td>\n",
       "      <td>1</td>\n",
       "      <td>2</td>\n",
       "      <td>1</td>\n",
       "      <td>1</td>\n",
       "      <td>1</td>\n",
       "      <td>1</td>\n",
       "      <td>...</td>\n",
       "      <td>3</td>\n",
       "      <td>0</td>\n",
       "      <td>0</td>\n",
       "      <td>1</td>\n",
       "      <td>0</td>\n",
       "      <td>86</td>\n",
       "      <td>11</td>\n",
       "      <td>201</td>\n",
       "      <td>122</td>\n",
       "      <td>18</td>\n",
       "    </tr>\n",
       "    <tr>\n",
       "      <th>...</th>\n",
       "      <td>...</td>\n",
       "      <td>...</td>\n",
       "      <td>...</td>\n",
       "      <td>...</td>\n",
       "      <td>...</td>\n",
       "      <td>...</td>\n",
       "      <td>...</td>\n",
       "      <td>...</td>\n",
       "      <td>...</td>\n",
       "      <td>...</td>\n",
       "      <td>...</td>\n",
       "      <td>...</td>\n",
       "      <td>...</td>\n",
       "      <td>...</td>\n",
       "      <td>...</td>\n",
       "      <td>...</td>\n",
       "      <td>...</td>\n",
       "      <td>...</td>\n",
       "      <td>...</td>\n",
       "      <td>...</td>\n",
       "      <td>...</td>\n",
       "    </tr>\n",
       "    <tr>\n",
       "      <th>51485</th>\n",
       "      <td>3308904636</td>\n",
       "      <td>1503076540231</td>\n",
       "      <td>1944</td>\n",
       "      <td>9</td>\n",
       "      <td>2</td>\n",
       "      <td>1</td>\n",
       "      <td>2</td>\n",
       "      <td>2</td>\n",
       "      <td>0</td>\n",
       "      <td>2</td>\n",
       "      <td>...</td>\n",
       "      <td>10</td>\n",
       "      <td>2</td>\n",
       "      <td>0</td>\n",
       "      <td>4</td>\n",
       "      <td>0</td>\n",
       "      <td>55</td>\n",
       "      <td>-1</td>\n",
       "      <td>90</td>\n",
       "      <td>238</td>\n",
       "      <td>157</td>\n",
       "    </tr>\n",
       "    <tr>\n",
       "      <th>51486</th>\n",
       "      <td>3215685759</td>\n",
       "      <td>1496957179355</td>\n",
       "      <td>3304</td>\n",
       "      <td>9</td>\n",
       "      <td>2</td>\n",
       "      <td>1</td>\n",
       "      <td>1</td>\n",
       "      <td>2</td>\n",
       "      <td>2</td>\n",
       "      <td>2</td>\n",
       "      <td>...</td>\n",
       "      <td>11</td>\n",
       "      <td>7</td>\n",
       "      <td>4</td>\n",
       "      <td>4</td>\n",
       "      <td>1</td>\n",
       "      <td>157</td>\n",
       "      <td>55</td>\n",
       "      <td>119</td>\n",
       "      <td>154</td>\n",
       "      <td>105</td>\n",
       "    </tr>\n",
       "    <tr>\n",
       "      <th>51487</th>\n",
       "      <td>3322765040</td>\n",
       "      <td>1504029863961</td>\n",
       "      <td>2156</td>\n",
       "      <td>9</td>\n",
       "      <td>2</td>\n",
       "      <td>2</td>\n",
       "      <td>2</td>\n",
       "      <td>2</td>\n",
       "      <td>0</td>\n",
       "      <td>1</td>\n",
       "      <td>...</td>\n",
       "      <td>10</td>\n",
       "      <td>2</td>\n",
       "      <td>0</td>\n",
       "      <td>2</td>\n",
       "      <td>0</td>\n",
       "      <td>113</td>\n",
       "      <td>122</td>\n",
       "      <td>53</td>\n",
       "      <td>11</td>\n",
       "      <td>157</td>\n",
       "    </tr>\n",
       "    <tr>\n",
       "      <th>51488</th>\n",
       "      <td>3256675373</td>\n",
       "      <td>1499562036246</td>\n",
       "      <td>1475</td>\n",
       "      <td>9</td>\n",
       "      <td>2</td>\n",
       "      <td>2</td>\n",
       "      <td>2</td>\n",
       "      <td>2</td>\n",
       "      <td>0</td>\n",
       "      <td>2</td>\n",
       "      <td>...</td>\n",
       "      <td>11</td>\n",
       "      <td>3</td>\n",
       "      <td>0</td>\n",
       "      <td>1</td>\n",
       "      <td>0</td>\n",
       "      <td>154</td>\n",
       "      <td>39</td>\n",
       "      <td>51</td>\n",
       "      <td>90</td>\n",
       "      <td>114</td>\n",
       "    </tr>\n",
       "    <tr>\n",
       "      <th>51489</th>\n",
       "      <td>3317333020</td>\n",
       "      <td>1503612754059</td>\n",
       "      <td>1445</td>\n",
       "      <td>9</td>\n",
       "      <td>1</td>\n",
       "      <td>1</td>\n",
       "      <td>1</td>\n",
       "      <td>1</td>\n",
       "      <td>1</td>\n",
       "      <td>2</td>\n",
       "      <td>...</td>\n",
       "      <td>1</td>\n",
       "      <td>0</td>\n",
       "      <td>0</td>\n",
       "      <td>1</td>\n",
       "      <td>0</td>\n",
       "      <td>11</td>\n",
       "      <td>157</td>\n",
       "      <td>141</td>\n",
       "      <td>31</td>\n",
       "      <td>18</td>\n",
       "    </tr>\n",
       "  </tbody>\n",
       "</table>\n",
       "<p>51490 rows × 61 columns</p>\n",
       "</div>"
      ],
      "text/plain": [
       "           gameId   creationTime  gameDuration  seasonId  winner  firstBlood  \\\n",
       "0      3326086514  1504279457970          1949         9       1           2   \n",
       "1      3229566029  1497848803862          1851         9       1           1   \n",
       "2      3327363504  1504360103310          1493         9       1           2   \n",
       "3      3326856598  1504348503996          1758         9       1           1   \n",
       "4      3330080762  1504554410899          2094         9       1           2   \n",
       "...           ...            ...           ...       ...     ...         ...   \n",
       "51485  3308904636  1503076540231          1944         9       2           1   \n",
       "51486  3215685759  1496957179355          3304         9       2           1   \n",
       "51487  3322765040  1504029863961          2156         9       2           2   \n",
       "51488  3256675373  1499562036246          1475         9       2           2   \n",
       "51489  3317333020  1503612754059          1445         9       1           1   \n",
       "\n",
       "       firstTower  firstInhibitor  firstBaron  firstDragon  ...  \\\n",
       "0               1               1           1            1  ...   \n",
       "1               1               1           0            1  ...   \n",
       "2               1               1           1            2  ...   \n",
       "3               1               1           1            1  ...   \n",
       "4               1               1           1            1  ...   \n",
       "...           ...             ...         ...          ...  ...   \n",
       "51485           2               2           0            2  ...   \n",
       "51486           1               2           2            2  ...   \n",
       "51487           2               2           0            1  ...   \n",
       "51488           2               2           0            2  ...   \n",
       "51489           1               1           1            2  ...   \n",
       "\n",
       "       t2_towerKills  t2_inhibitorKills  t2_baronKills  t2_dragonKills  \\\n",
       "0                  5                  0              0               1   \n",
       "1                  2                  0              0               0   \n",
       "2                  2                  0              0               1   \n",
       "3                  0                  0              0               0   \n",
       "4                  3                  0              0               1   \n",
       "...              ...                ...            ...             ...   \n",
       "51485             10                  2              0               4   \n",
       "51486             11                  7              4               4   \n",
       "51487             10                  2              0               2   \n",
       "51488             11                  3              0               1   \n",
       "51489              1                  0              0               1   \n",
       "\n",
       "       t2_riftHeraldKills  t2_ban1  t2_ban2  t2_ban3  t2_ban4  t2_ban5  \n",
       "0                       1      114       67       43       16       51  \n",
       "1                       0       11       67      238       51      420  \n",
       "2                       0      157      238      121       57       28  \n",
       "3                       0      164       18      141       40       51  \n",
       "4                       0       86       11      201      122       18  \n",
       "...                   ...      ...      ...      ...      ...      ...  \n",
       "51485                   0       55       -1       90      238      157  \n",
       "51486                   1      157       55      119      154      105  \n",
       "51487                   0      113      122       53       11      157  \n",
       "51488                   0      154       39       51       90      114  \n",
       "51489                   0       11      157      141       31       18  \n",
       "\n",
       "[51490 rows x 61 columns]"
      ]
     },
     "execution_count": 2,
     "metadata": {},
     "output_type": "execute_result"
    }
   ],
   "source": [
    "df = pd.read_csv('games.csv') \n",
    "df "
   ]
  },
  {
   "cell_type": "code",
   "execution_count": 22,
   "id": "94dae71d",
   "metadata": {},
   "outputs": [],
   "source": [
    "#Read from the file\n",
    "game_time = pd.read_csv(\"games.csv\", delimiter = \",\")"
   ]
  },
  {
   "cell_type": "code",
   "execution_count": 23,
   "id": "c852e2b9",
   "metadata": {},
   "outputs": [],
   "source": [
    "#Data reading\n",
    "game = game_time[\"gameDuration\"].values"
   ]
  },
  {
   "cell_type": "markdown",
   "id": "e78f6aa9",
   "metadata": {},
   "source": [
    "# Histograms\n",
    "Histograms reveal, through numbers, interpretable trends in your data. They don’t provide a yes or no answer, but are often used as a starting point for discussion and informing an answer to your data.\n",
    "\n",
    "The purpose of a histogram is to summarize data that you can use to inform a decision or explain a distribution.\n",
    "\n",
    "### Choose a correct number of bins\n",
    "We need that all the bars of the histogram have the same width. To calculate this we will use the ruler known as Sturges rule.\n",
    "\n",
    "#### Sturges rule\n",
    "To obtain the Sturges rule, it is only necessary to assume that the number of samples in each interval of an ideal histogram is given by the binomial coefficient. Thus, the total number of samples can be obtained by adding the number of each of the intervals.\n",
    "\n",
    "$${N} = {\\sum_{i}^{k-1}\\binom{k-1}{i} = 2^{k-1}}$$\n",
    "\n",
    "Therefore, we can obtain a formula that depends only on the number of values that exist in the data set.\n",
    "\n",
    "$${K_{sturges}} = \\log_2{|n|} + 1$$"
   ]
  },
  {
   "cell_type": "code",
   "execution_count": 30,
   "id": "b1fab2a2",
   "metadata": {},
   "outputs": [
    {
     "data": {
      "image/png": "[encoded data removed]",
      "text/plain": [
       "<Figure size 432x288 with 1 Axes>"
      ]
     },
     "metadata": {
      "needs_background": "light"
     },
     "output_type": "display_data"
    }
   ],
   "source": [
    "min_time = np.amin(game)\n",
    "max_time = np.amax(game)\n",
    "range_time = max_time - min_time\n",
    "\n",
    "plt.hist(game, range = (min_time, max_time), edgecolor='black')\n",
    "plt.title(\"Histograma de duracion (en segundos) de partidas\")\n",
    "plt.xlabel(\"Tiempo (s)\")\n",
    "plt.ylabel(\"Numero de partidas\")\n",
    "plt.show()"
   ]
  },
  {
   "cell_type": "markdown",
   "id": "0fb47e55",
   "metadata": {},
   "source": [
    "## Average:"
   ]
  },
  {
   "cell_type": "code",
   "execution_count": 31,
   "id": "2ada1e42",
   "metadata": {},
   "outputs": [],
   "source": [
    "average_time = int(np.average(game))"
   ]
  },
  {
   "cell_type": "code",
   "execution_count": 41,
   "id": "ebc4b77c",
   "metadata": {},
   "outputs": [
    {
     "data": {
      "image/png": "[encoded data removed]",
      "text/plain": [
       "<Figure size 432x288 with 1 Axes>"
      ]
     },
     "metadata": {
      "needs_background": "light"
     },
     "output_type": "display_data"
    },
    {
     "name": "stdout",
     "output_type": "stream",
     "text": [
      "----> El promedio de duracion de partidas fue: 1832 segundos\n"
     ]
    }
   ],
   "source": [
    "#Graph the average \n",
    "plt.hist(game, range = (min_time, max_time), edgecolor='black')\n",
    "plt.title(\"Histograma de duracion (en segundos) de partidas \")\n",
    "plt.xlabel(\"Tiempo (s)\")\n",
    "plt.ylabel(\"Numero de partidas\")\n",
    "plt.axvline(average_time, color='r', linestyle='solid', linewidth=2, label=\"Promedio tiempo\")\n",
    "plt.legend()\n",
    "plt.show()\n",
    "print(f\"----> El promedio de duracion de partidas fue: {average_time} segundos\")"
   ]
  },
  {
   "cell_type": "markdown",
   "id": "41f74777",
   "metadata": {},
   "source": [
    "## Median:"
   ]
  },
  {
   "cell_type": "code",
   "execution_count": 36,
   "id": "7219a5f4",
   "metadata": {},
   "outputs": [],
   "source": [
    "median_time = int(np.median(game))"
   ]
  },
  {
   "cell_type": "code",
   "execution_count": 42,
   "id": "c1c7addf",
   "metadata": {},
   "outputs": [
    {
     "data": {
      "image/png": "[encoded data removed]",
      "text/plain": [
       "<Figure size 432x288 with 1 Axes>"
      ]
     },
     "metadata": {
      "needs_background": "light"
     },
     "output_type": "display_data"
    },
    {
     "name": "stdout",
     "output_type": "stream",
     "text": [
      "----> La mediana de la duracion de las partidas fue: 1833 segundos\n"
     ]
    }
   ],
   "source": [
    "plt.hist(game, range = (min_time, max_time), edgecolor='black')\n",
    "plt.title(\"Histograma de duracion (en segundos) de partidas\")\n",
    "plt.xlabel(\"Tiempo (s)\")\n",
    "plt.ylabel(\"Numeor de partidas\")\n",
    "plt.axvline(median_time, color='y', linestyle='solid', linewidth=2, label=\"Mediana tiempo\")\n",
    "plt.legend()\n",
    "plt.show()\n",
    "print(f\"----> La mediana de la duracion de las partidas fue: {median_time} segundos\")"
   ]
  },
  {
   "cell_type": "markdown",
   "id": "52d5d371",
   "metadata": {},
   "source": [
    "## Mode:"
   ]
  },
  {
   "cell_type": "code",
   "execution_count": 39,
   "id": "bfed20d0",
   "metadata": {},
   "outputs": [],
   "source": [
    "mode_time = stats.mode(game)[0]"
   ]
  },
  {
   "cell_type": "code",
   "execution_count": 43,
   "id": "38dcc976",
   "metadata": {
    "scrolled": true
   },
   "outputs": [
    {
     "data": {
      "image/png": "[encoded data removed]",
      "text/plain": [
       "<Figure size 432x288 with 1 Axes>"
      ]
     },
     "metadata": {
      "needs_background": "light"
     },
     "output_type": "display_data"
    },
    {
     "name": "stdout",
     "output_type": "stream",
     "text": [
      "----> La moda de duracion de partidas fue: [196] segundos\n"
     ]
    }
   ],
   "source": [
    "plt.hist(game, range = (min_time, max_time), edgecolor='black')\n",
    "plt.title(\"Histograma de duracion (en segundos) de partidas\")\n",
    "plt.xlabel(\"Tiempo (s)\")\n",
    "plt.ylabel(\"Numero de partidas\")\n",
    "plt.axvline(mode_time, color='green', linestyle='solid', linewidth=3, label=\"Moda tiempo\")\n",
    "plt.legend()\n",
    "plt.show()\n",
    "print(f\"----> La moda de duracion de partidas fue: {mode_time} segundos\")"
   ]
  },
  {
   "cell_type": "markdown",
   "id": "143744c8",
   "metadata": {},
   "source": [
    "## Variance:"
   ]
  },
  {
   "cell_type": "code",
   "execution_count": 47,
   "id": "08429049",
   "metadata": {},
   "outputs": [],
   "source": [
    "variance_time = int(np.var(game))"
   ]
  },
  {
   "cell_type": "code",
   "execution_count": 51,
   "id": "5ceed972",
   "metadata": {},
   "outputs": [
    {
     "data": {
      "image/png": "[encoded data removed]",
      "text/plain": [
       "<Figure size 432x288 with 1 Axes>"
      ]
     },
     "metadata": {
      "needs_background": "light"
     },
     "output_type": "display_data"
    },
    {
     "name": "stdout",
     "output_type": "stream",
     "text": [
      "----> El promedio de tiempo de duracion en las partidas es de: 1832s , Y su varianca es: 262157\n"
     ]
    }
   ],
   "source": [
    "plt.hist(game, range = (min_time, max_time), edgecolor='black', alpha=0.80, label=\"Tiempo\")\n",
    "plt.title(\"Histograma de duracion (en segundos) de partidas\")\n",
    "plt.xlabel(\"Tiempo (s)\")\n",
    "plt.ylabel(\"Numero de partidas\")\n",
    "plt.legend()\n",
    "plt.show()\n",
    "\n",
    "print(f\"----> El promedio de tiempo de duracion en las partidas es de: {average_time}s , Y su varianca es: {variance_time}\")\n"
   ]
  },
  {
   "cell_type": "markdown",
   "id": "e5e30163",
   "metadata": {},
   "source": [
    "## Standard Deviation:"
   ]
  },
  {
   "cell_type": "code",
   "execution_count": 54,
   "id": "69b6e03b",
   "metadata": {},
   "outputs": [
    {
     "name": "stdout",
     "output_type": "stream",
     "text": [
      "----> La desviación estándar de todos los datos de la duracion de las partidas es: 512.0127243503217\n"
     ]
    }
   ],
   "source": [
    "std_time = np.std(game)\n",
    "print(f\"----> La desviación estándar de todos los datos de la duracion de las partidas es: {std_time}\")"
   ]
  },
  {
   "cell_type": "markdown",
   "id": "12a058eb",
   "metadata": {},
   "source": [
    "## Boxplots in Matplotlib:"
   ]
  },
  {
   "cell_type": "code",
   "execution_count": 56,
   "id": "6af3de01",
   "metadata": {},
   "outputs": [
    {
     "data": {
      "image/png": "[encoded data removed]",
      "text/plain": [
       "<Figure size 432x288 with 1 Axes>"
      ]
     },
     "metadata": {
      "needs_background": "light"
     },
     "output_type": "display_data"
    }
   ],
   "source": [
    "plt.boxplot([game])\n",
    "plt.title(\"Boxplots de la duracion de partidas\")\n",
    "plt.show()"
   ]
  },
  {
   "cell_type": "code",
   "execution_count": null,
   "id": "c3dace7b",
   "metadata": {},
   "outputs": [],
   "source": []
  }
 ],
 "metadata": {
  "kernelspec": {
   "display_name": "Python 3 (ipykernel)",
   "language": "python",
   "name": "python3"
  },
  "language_info": {
   "codemirror_mode": {
    "name": "ipython",
    "version": 3
   },
   "file_extension": ".py",
   "mimetype": "text/x-python",
   "name": "python",
   "nbconvert_exporter": "python",
   "pygments_lexer": "ipython3",
   "version": "3.9.12"
  }
 },
 "nbformat": 4,
 "nbformat_minor": 5
}
